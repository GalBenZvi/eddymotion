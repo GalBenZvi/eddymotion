{
 "cells": [
  {
   "cell_type": "code",
   "execution_count": null,
   "outputs": [],
   "source": [
    "def build_emc_workflow(fdata, fbvals, fbvecs, work_dir='/tmp'):\n",
    "    wf_emc.base_dir = work_dir\n",
    "\n",
    "    wf_emc = pe.Workflow(name='emc_correction')\n",
    "\n",
    "    inputnode = pe.Node(niu.IdentityInterface(fields=['dwi_files', 'in_bval',\n",
    "                                                      'in_bvec']),\n",
    "        name='inputnode')\n",
    "\n",
    "    inputnode.inputs.dwi_file = fdata\n",
    "    inputnode.inputs.in_bval = fbvals\n",
    "    inputnode.inputs.in_bvec = fbvecs\n",
    "\n",
    "    gradient_table = pe.Node(CheckGradientTable(), name=\"gradient_table\")\n",
    "\n",
    "    dwi_reference_wf = init_dwi_reference_wf()\n",
    "\n",
    "    emc_wf_node = init_emc_wf('emc_wf')\n",
    "\n",
    "    wf_emc.connect([\n",
    "        (inputnode, gradient_table, [(\"dwi_file\", \"dwi_file\"),\n",
    "                                 (\"in_bvec\", \"in_bvec\"),\n",
    "                                 (\"in_bval\", \"in_bval\")]),\n",
    "        (inputnode, dwi_reference_wf, [(\"dwi_file\", \"inputnode.dwi_file\")]),\n",
    "        (gradient_table, dwi_reference_wf, [(\"b0_ixs\", \"inputnode.b0_ixs\")]),\n",
    "        (dwi_reference_wf, emc_wf_node, [(\"outputnode.ref_image\",\n",
    "                                          'meta_inputnode.b0_template')]),\n",
    "\n",
    "        (inputnode, emc_wf_node, [('dwi_file', 'meta_inputnode.dwi_file'),\n",
    "                                  ('in_bval', 'meta_inputnode.in_bval'),\n",
    "                                  ('in_bvec', 'meta_inputnode.in_bvec')])\n",
    "    ])\n",
    "\n",
    "    cfg = dict(execution={'stop_on_first_crash': False,\n",
    "                          'parameterize_dirs': True, 'crashfile_format': 'txt',\n",
    "                          'remove_unnecessary_outputs': False,\n",
    "                          'poll_sleep_duration': 0, 'plugin': 'MultiProc'})\n",
    "    for key in cfg.keys():\n",
    "        for setting, value in cfg[key].items():\n",
    "            wf_emc.config[key][setting] = value\n",
    "\n",
    "    return wf_emc\n",
    "\n",
    "wf = build_emc_workflow(fdata, fbvals, fbvecs)\n",
    "res = wf.run()"
   ],
   "metadata": {
    "collapsed": false,
    "pycharm": {
     "name": "#%% Create a workflow\n"
    }
   }
  }
 ],
 "metadata": {
  "kernelspec": {
   "display_name": "Python 3",
   "language": "python",
   "name": "python3"
  },
  "language_info": {
   "codemirror_mode": {
    "name": "ipython",
    "version": 3
   },
   "file_extension": ".py",
   "mimetype": "text/x-python",
   "name": "python",
   "nbconvert_exporter": "python",
   "pygments_lexer": "ipython3",
   "version": "3.7.3"
  },
  "pycharm": {
   "stem_cell": {
    "cell_type": "raw",
    "source": [
     "from emc.workflows.emc import init_emc_wf\n",
     "from pathlib import Path\n",
     "import nipype.pipeline.engine as pe\n",
     "from nipype.interfaces import utility as niu\n",
     "from dipy.data import get_fnames\n",
     "from dipy.core.gradients import gradient_table\n",
     "from dmriprep.workflows.dwi.util import init_dwi_reference_wf\n",
     "from dmriprep.interfaces.vectors import CheckGradientTable\n",
     "\n",
     "#fdata, fbvals, fbvecs = get_fnames(\"sherbrooke_3shell\")\n",
     "fdata, fbvals, fbvecs = get_fnames(\"stanford_hardi\")\n",
     "\n",
     "gtab = gradient_table(fbvals, fbvecs, b0_threshold=0)\n",
     "img = nib.load(fdata)\n",
     "data = img.get_fdata()\n"
    ],
    "metadata": {
     "collapsed": false
    }
   }
  }
 },
 "nbformat": 4,
 "nbformat_minor": 2
}